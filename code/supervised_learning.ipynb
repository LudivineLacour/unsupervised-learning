{
 "cells": [
  {
   "cell_type": "markdown",
   "metadata": {},
   "source": [
    "## Supervised machine learning\n",
    "\n",
    "**Goal:** predict the time in hours of absenteisme. In the context of the problem we don't really need to get the time down to the minute but rather a global estimation of: is this employee going to be absent for 1/2 day or rather 2 days? \n",
    "\n",
    "**Type of supervised learning:** I will use classification model such as Decisiion Tree to get a prediction on the range of absenteeism. Decision Tree model will allow to deal with categorical data because I have many of them in the dataset.\n",
    "\n",
    "Though regression model would work on the target type of data, I will keep it as a way for improvement if classification models fail. \n",
    "\n",
    "**Preprocessing and modelling tasks:** \n",
    "- [x] Drop id column which is irrelevant for modelling\n",
    "- [x] Check types of columns an ensure the categorical data are well identified\n",
    "- [x] Check for multicollinearity and drop columns with high correlation\n",
    "- [x] Check distribution and choose the right scaling method\n",
    "- [x] Check for balance of dataset and over/under sampling if needed\n",
    "- [x] Create train/test samples \n",
    "- [x] Build Decision tree model \n",
    "- [x] Check performance of model using accuracy score, visualize confusion matrix using heatmap "
   ]
  },
  {
   "cell_type": "code",
   "execution_count": 1,
   "metadata": {},
   "outputs": [
    {
     "name": "stderr",
     "output_type": "stream",
     "text": [
      "/opt/anaconda3/lib/python3.7/site-packages/statsmodels/tools/_testing.py:19: FutureWarning: pandas.util.testing is deprecated. Use the functions in the public API at pandas.testing instead.\n",
      "  import pandas.util.testing as tm\n"
     ]
    }
   ],
   "source": [
    "import pandas as pd\n",
    "import numpy as np\n",
    "import matplotlib.pyplot as plt\n",
    "import seaborn as sns\n",
    "\n",
    "%matplotlib inline\n",
    "sns.set()"
   ]
  },
  {
   "cell_type": "code",
   "execution_count": 2,
   "metadata": {},
   "outputs": [
    {
     "name": "stdout",
     "output_type": "stream",
     "text": [
      "(697, 11)\n"
     ]
    },
    {
     "data": {
      "text/html": [
       "<div>\n",
       "<style scoped>\n",
       "    .dataframe tbody tr th:only-of-type {\n",
       "        vertical-align: middle;\n",
       "    }\n",
       "\n",
       "    .dataframe tbody tr th {\n",
       "        vertical-align: top;\n",
       "    }\n",
       "\n",
       "    .dataframe thead th {\n",
       "        text-align: right;\n",
       "    }\n",
       "</style>\n",
       "<table border=\"1\" class=\"dataframe\">\n",
       "  <thead>\n",
       "    <tr style=\"text-align: right;\">\n",
       "      <th></th>\n",
       "      <th>id</th>\n",
       "      <th>reason_for_absence</th>\n",
       "      <th>month_of_absence</th>\n",
       "      <th>day_of_the_week</th>\n",
       "      <th>seasons</th>\n",
       "      <th>service_time</th>\n",
       "      <th>work_load_average_day</th>\n",
       "      <th>hit_target</th>\n",
       "      <th>absenteeism_bins</th>\n",
       "      <th>total_disciplinary_failures</th>\n",
       "      <th>cluster</th>\n",
       "    </tr>\n",
       "  </thead>\n",
       "  <tbody>\n",
       "    <tr>\n",
       "      <th>0</th>\n",
       "      <td>11</td>\n",
       "      <td>26</td>\n",
       "      <td>7</td>\n",
       "      <td>3</td>\n",
       "      <td>1</td>\n",
       "      <td>13</td>\n",
       "      <td>239.554</td>\n",
       "      <td>97</td>\n",
       "      <td>(2.0, 4.0]</td>\n",
       "      <td>2</td>\n",
       "      <td>2</td>\n",
       "    </tr>\n",
       "    <tr>\n",
       "      <th>1</th>\n",
       "      <td>11</td>\n",
       "      <td>23</td>\n",
       "      <td>7</td>\n",
       "      <td>5</td>\n",
       "      <td>1</td>\n",
       "      <td>13</td>\n",
       "      <td>239.554</td>\n",
       "      <td>97</td>\n",
       "      <td>(-0.001, 2.0]</td>\n",
       "      <td>2</td>\n",
       "      <td>2</td>\n",
       "    </tr>\n",
       "    <tr>\n",
       "      <th>2</th>\n",
       "      <td>11</td>\n",
       "      <td>18</td>\n",
       "      <td>8</td>\n",
       "      <td>2</td>\n",
       "      <td>1</td>\n",
       "      <td>13</td>\n",
       "      <td>205.917</td>\n",
       "      <td>92</td>\n",
       "      <td>(4.0, 8.0]</td>\n",
       "      <td>2</td>\n",
       "      <td>2</td>\n",
       "    </tr>\n",
       "    <tr>\n",
       "      <th>3</th>\n",
       "      <td>11</td>\n",
       "      <td>23</td>\n",
       "      <td>8</td>\n",
       "      <td>3</td>\n",
       "      <td>1</td>\n",
       "      <td>13</td>\n",
       "      <td>205.917</td>\n",
       "      <td>92</td>\n",
       "      <td>(-0.001, 2.0]</td>\n",
       "      <td>2</td>\n",
       "      <td>2</td>\n",
       "    </tr>\n",
       "    <tr>\n",
       "      <th>4</th>\n",
       "      <td>11</td>\n",
       "      <td>18</td>\n",
       "      <td>8</td>\n",
       "      <td>4</td>\n",
       "      <td>1</td>\n",
       "      <td>13</td>\n",
       "      <td>205.917</td>\n",
       "      <td>92</td>\n",
       "      <td>(4.0, 8.0]</td>\n",
       "      <td>2</td>\n",
       "      <td>2</td>\n",
       "    </tr>\n",
       "  </tbody>\n",
       "</table>\n",
       "</div>"
      ],
      "text/plain": [
       "   id  reason_for_absence  month_of_absence  day_of_the_week  seasons  \\\n",
       "0  11                  26                 7                3        1   \n",
       "1  11                  23                 7                5        1   \n",
       "2  11                  18                 8                2        1   \n",
       "3  11                  23                 8                3        1   \n",
       "4  11                  18                 8                4        1   \n",
       "\n",
       "   service_time  work_load_average_day  hit_target absenteeism_bins  \\\n",
       "0            13                239.554          97       (2.0, 4.0]   \n",
       "1            13                239.554          97    (-0.001, 2.0]   \n",
       "2            13                205.917          92       (4.0, 8.0]   \n",
       "3            13                205.917          92    (-0.001, 2.0]   \n",
       "4            13                205.917          92       (4.0, 8.0]   \n",
       "\n",
       "   total_disciplinary_failures  cluster  \n",
       "0                            2        2  \n",
       "1                            2        2  \n",
       "2                            2        2  \n",
       "3                            2        2  \n",
       "4                            2        2  "
      ]
     },
     "execution_count": 2,
     "metadata": {},
     "output_type": "execute_result"
    }
   ],
   "source": [
    "df = pd.read_csv('../data/absenteeism_clusterized.csv')\n",
    "print(df.shape)\n",
    "df.head()"
   ]
  },
  {
   "cell_type": "code",
   "execution_count": 3,
   "metadata": {},
   "outputs": [
    {
     "name": "stdout",
     "output_type": "stream",
     "text": [
      "(697, 10)\n",
      "(697,)\n"
     ]
    }
   ],
   "source": [
    "# Splitting dataset into features and target dataframes\n",
    "\n",
    "X = df.drop('absenteeism_bins',axis=1).copy()\n",
    "print(X.shape)\n",
    "\n",
    "y = df.absenteeism_bins\n",
    "print(y.shape)"
   ]
  },
  {
   "cell_type": "markdown",
   "metadata": {},
   "source": [
    "__________________________\n",
    "## Preprocessing"
   ]
  },
  {
   "cell_type": "code",
   "execution_count": 4,
   "metadata": {},
   "outputs": [],
   "source": [
    "# Dropping Id columns because it has no impact on predicting the time of absence\n",
    "X.drop('id', axis=1, inplace= True)"
   ]
  },
  {
   "cell_type": "code",
   "execution_count": 5,
   "metadata": {},
   "outputs": [
    {
     "data": {
      "text/plain": [
       "reason_for_absence              object\n",
       "month_of_absence                object\n",
       "day_of_the_week                 object\n",
       "seasons                         object\n",
       "service_time                     int64\n",
       "work_load_average_day          float64\n",
       "hit_target                       int64\n",
       "total_disciplinary_failures      int64\n",
       "cluster                         object\n",
       "dtype: object"
      ]
     },
     "execution_count": 5,
     "metadata": {},
     "output_type": "execute_result"
    }
   ],
   "source": [
    "# Convert categorical dtypes to object\n",
    "\n",
    "X[['reason_for_absence',\n",
    "   'month_of_absence',\n",
    "   'day_of_the_week',\n",
    "   'seasons','cluster']] = X[['reason_for_absence',\n",
    "                              'month_of_absence',\n",
    "                              'day_of_the_week',\n",
    "                              'seasons','cluster']].astype(object)\n",
    "X.dtypes"
   ]
  },
  {
   "cell_type": "code",
   "execution_count": 6,
   "metadata": {},
   "outputs": [
    {
     "data": {
      "text/plain": [
       "dtype('O')"
      ]
     },
     "execution_count": 6,
     "metadata": {},
     "output_type": "execute_result"
    }
   ],
   "source": [
    "# Checking dtype of target \n",
    "\n",
    "y.dtype"
   ]
  },
  {
   "cell_type": "code",
   "execution_count": 7,
   "metadata": {},
   "outputs": [
    {
     "data": {
      "image/png": "[encoded data removed]",
      "text/plain": [
       "<Figure size 432x288 with 2 Axes>"
      ]
     },
     "metadata": {
      "needs_background": "light"
     },
     "output_type": "display_data"
    }
   ],
   "source": [
    "# Checking multicollinearity through data visualization\n",
    "\n",
    "sns.heatmap(abs(X.corr().round(2)), annot=True);"
   ]
  },
  {
   "cell_type": "code",
   "execution_count": 8,
   "metadata": {},
   "outputs": [],
   "source": [
    "# Checking multicollinearity between numeric columns using VIF metrics\n",
    "\n",
    "from statsmodels.stats.outliers_influence import variance_inflation_factor as VIF\n",
    "\n",
    "def drop_check_vif(column, X):\n",
    "    if column:\n",
    "        X=X.drop(column, axis=1)\n",
    "    vifs=pd.Series([VIF(X.values,i) for i in range(X.shape[1])],index=X.columns)\n",
    "    display(vifs[vifs>10])\n",
    "    return X"
   ]
  },
  {
   "cell_type": "code",
   "execution_count": 9,
   "metadata": {},
   "outputs": [],
   "source": [
    "# Creating a list of col to drop for multicollinearity (numeric columns)\n",
    "col_drop = []\n",
    "X_num = X._get_numeric_data()"
   ]
  },
  {
   "cell_type": "code",
   "execution_count": 10,
   "metadata": {},
   "outputs": [
    {
     "data": {
      "text/plain": [
       "Series([], dtype: float64)"
      ]
     },
     "metadata": {},
     "output_type": "display_data"
    }
   ],
   "source": [
    "col_drop.append('hit_target')\n",
    "\n",
    "X_num = drop_check_vif(col_drop[-1], X_num)"
   ]
  },
  {
   "cell_type": "markdown",
   "metadata": {},
   "source": [
    "I dropped 1 column with VIF above 10: hit_target"
   ]
  },
  {
   "cell_type": "code",
   "execution_count": 11,
   "metadata": {},
   "outputs": [
    {
     "name": "stdout",
     "output_type": "stream",
     "text": [
      "(697, 8)\n"
     ]
    }
   ],
   "source": [
    "# Dropping columns with high multicollinearity\n",
    "\n",
    "X.drop(columns=col_drop[-1],inplace=True)\n",
    "print(X.shape)"
   ]
  },
  {
   "cell_type": "code",
   "execution_count": 12,
   "metadata": {},
   "outputs": [
    {
     "data": {
      "image/png": "[encoded data removed]",
      "text/plain": [
       "<Figure size 1224x576 with 5 Axes>"
      ]
     },
     "metadata": {
      "needs_background": "light"
     },
     "output_type": "display_data"
    }
   ],
   "source": [
    "# Checking the frequency distribution of categorical features\n",
    "cat_features = X[X.columns[X.dtypes==object]]\n",
    "\n",
    "fig, axs=plt.subplots(2,3, figsize=(17,8))\n",
    "\n",
    "for i in range(cat_features.shape[1]):\n",
    "    ax=axs[i//3,i%3]\n",
    "    sns.distplot(cat_features.iloc[:,i],ax=ax)\n",
    "\n",
    "fig.delaxes(ax=axs[1,2])\n",
    "plt.show()"
   ]
  },
  {
   "cell_type": "code",
   "execution_count": 13,
   "metadata": {},
   "outputs": [
    {
     "data": {
      "image/png": "[encoded data removed]",
      "text/plain": [
       "<Figure size 1224x288 with 3 Axes>"
      ]
     },
     "metadata": {
      "needs_background": "light"
     },
     "output_type": "display_data"
    }
   ],
   "source": [
    "# Checking the frequency distribution of numeric features\n",
    "fig, axs=plt.subplots(1,3, figsize=(17,4))\n",
    "\n",
    "for i in range(X_num.shape[1]):\n",
    "    sns.distplot(X_num.iloc[:,i],ax=axs[i])\n",
    "\n",
    "plt.show()"
   ]
  },
  {
   "cell_type": "code",
   "execution_count": 14,
   "metadata": {},
   "outputs": [
    {
     "data": {
      "text/html": [
       "<div>\n",
       "<style scoped>\n",
       "    .dataframe tbody tr th:only-of-type {\n",
       "        vertical-align: middle;\n",
       "    }\n",
       "\n",
       "    .dataframe tbody tr th {\n",
       "        vertical-align: top;\n",
       "    }\n",
       "\n",
       "    .dataframe thead th {\n",
       "        text-align: right;\n",
       "    }\n",
       "</style>\n",
       "<table border=\"1\" class=\"dataframe\">\n",
       "  <thead>\n",
       "    <tr style=\"text-align: right;\">\n",
       "      <th></th>\n",
       "      <th>reason_for_absence</th>\n",
       "      <th>month_of_absence</th>\n",
       "      <th>day_of_the_week</th>\n",
       "      <th>seasons</th>\n",
       "      <th>service_time</th>\n",
       "      <th>work_load_average_day</th>\n",
       "      <th>total_disciplinary_failures</th>\n",
       "      <th>cluster</th>\n",
       "    </tr>\n",
       "  </thead>\n",
       "  <tbody>\n",
       "    <tr>\n",
       "      <th>0</th>\n",
       "      <td>26</td>\n",
       "      <td>7</td>\n",
       "      <td>3</td>\n",
       "      <td>1</td>\n",
       "      <td>0.101582</td>\n",
       "      <td>-0.810571</td>\n",
       "      <td>0.53861</td>\n",
       "      <td>2</td>\n",
       "    </tr>\n",
       "    <tr>\n",
       "      <th>1</th>\n",
       "      <td>23</td>\n",
       "      <td>7</td>\n",
       "      <td>5</td>\n",
       "      <td>1</td>\n",
       "      <td>0.101582</td>\n",
       "      <td>-0.810571</td>\n",
       "      <td>0.53861</td>\n",
       "      <td>2</td>\n",
       "    </tr>\n",
       "    <tr>\n",
       "      <th>2</th>\n",
       "      <td>18</td>\n",
       "      <td>8</td>\n",
       "      <td>2</td>\n",
       "      <td>1</td>\n",
       "      <td>0.101582</td>\n",
       "      <td>-1.671611</td>\n",
       "      <td>0.53861</td>\n",
       "      <td>2</td>\n",
       "    </tr>\n",
       "    <tr>\n",
       "      <th>3</th>\n",
       "      <td>23</td>\n",
       "      <td>8</td>\n",
       "      <td>3</td>\n",
       "      <td>1</td>\n",
       "      <td>0.101582</td>\n",
       "      <td>-1.671611</td>\n",
       "      <td>0.53861</td>\n",
       "      <td>2</td>\n",
       "    </tr>\n",
       "    <tr>\n",
       "      <th>4</th>\n",
       "      <td>18</td>\n",
       "      <td>8</td>\n",
       "      <td>4</td>\n",
       "      <td>1</td>\n",
       "      <td>0.101582</td>\n",
       "      <td>-1.671611</td>\n",
       "      <td>0.53861</td>\n",
       "      <td>2</td>\n",
       "    </tr>\n",
       "  </tbody>\n",
       "</table>\n",
       "</div>"
      ],
      "text/plain": [
       "  reason_for_absence month_of_absence day_of_the_week seasons  service_time  \\\n",
       "0                 26                7               3       1      0.101582   \n",
       "1                 23                7               5       1      0.101582   \n",
       "2                 18                8               2       1      0.101582   \n",
       "3                 23                8               3       1      0.101582   \n",
       "4                 18                8               4       1      0.101582   \n",
       "\n",
       "   work_load_average_day  total_disciplinary_failures cluster  \n",
       "0              -0.810571                      0.53861       2  \n",
       "1              -0.810571                      0.53861       2  \n",
       "2              -1.671611                      0.53861       2  \n",
       "3              -1.671611                      0.53861       2  \n",
       "4              -1.671611                      0.53861       2  "
      ]
     },
     "execution_count": 14,
     "metadata": {},
     "output_type": "execute_result"
    }
   ],
   "source": [
    "# Apply standardization because scale of values is the same for all\n",
    "\n",
    "from sklearn.preprocessing import StandardScaler\n",
    "sc_X = StandardScaler()\n",
    "X_num_scaled = sc_X.fit_transform(X_num)\n",
    "\n",
    "X[X.columns[X.columns.isin(X_num.columns)]] = X_num_scaled\n",
    "X.head()"
   ]
  },
  {
   "cell_type": "code",
   "execution_count": 15,
   "metadata": {},
   "outputs": [
    {
     "data": {
      "text/plain": [
       "reason_for_absence              object\n",
       "month_of_absence                object\n",
       "day_of_the_week                 object\n",
       "seasons                         object\n",
       "service_time                   float64\n",
       "work_load_average_day          float64\n",
       "total_disciplinary_failures    float64\n",
       "cluster                         object\n",
       "dtype: object"
      ]
     },
     "execution_count": 15,
     "metadata": {},
     "output_type": "execute_result"
    }
   ],
   "source": [
    "X.dtypes"
   ]
  },
  {
   "cell_type": "code",
   "execution_count": 16,
   "metadata": {},
   "outputs": [
    {
     "data": {
      "image/png": "[encoded data removed]",
      "text/plain": [
       "<Figure size 432x288 with 1 Axes>"
      ]
     },
     "metadata": {
      "needs_background": "light"
     },
     "output_type": "display_data"
    }
   ],
   "source": [
    "# Checking balance of dataset\n",
    "y.hist();"
   ]
  },
  {
   "cell_type": "markdown",
   "metadata": {},
   "source": [
    "### Conclusion on preprocessing\n",
    "\n",
    "We have imbalanced dataset regarding the frequency distribution of targets but this is normal because the categories with low frequency are outliers. \n",
    "\n",
    "Distribution of numeric features are not normally dstributed. We can assume that Decision Tree is not sensitive to normal distribution of data so we will keep them as it is. \n",
    "\n",
    "We can see that the categorical data are kinda uniformly distributed for seasons and day_of_week, so they may not affect much the model. \n",
    "\n",
    "We will build the model as it is and see for application of possible improvements afterwards.\n",
    "\n",
    "**Possible improvements:** \n",
    "- Apply over and under sampling methods to balance the dataset if imbalance of dataset has too much effect\n",
    "- Apply box-cox transformation if normallity would improve the performance of the model"
   ]
  },
  {
   "cell_type": "markdown",
   "metadata": {},
   "source": [
    "_______________________\n",
    "## Modelling"
   ]
  },
  {
   "cell_type": "code",
   "execution_count": 17,
   "metadata": {},
   "outputs": [],
   "source": [
    "from sklearn.model_selection import train_test_split\n",
    "from sklearn.tree import DecisionTreeClassifier\n",
    "from sklearn.metrics import confusion_matrix, accuracy_score, roc_auc_score, precision_score"
   ]
  },
  {
   "cell_type": "code",
   "execution_count": 18,
   "metadata": {},
   "outputs": [
    {
     "name": "stdout",
     "output_type": "stream",
     "text": [
      "Checking shape of samples\n",
      "X_train (487, 8)\n",
      "X_test (210, 8) \n",
      "\n",
      "Checking stratify of samples\n",
      "y_train\n",
      " (-0.001, 2.0]    0.353183\n",
      "(4.0, 8.0]       0.310062\n",
      "(2.0, 4.0]       0.246407\n",
      "(20.0, 120.0]    0.063655\n",
      "(8.0, 20.0]      0.026694\n",
      "Name: absenteeism_bins, dtype: float64\n",
      "y_test\n",
      " (-0.001, 2.0]    0.352381\n",
      "(4.0, 8.0]       0.309524\n",
      "(2.0, 4.0]       0.247619\n",
      "(20.0, 120.0]    0.061905\n",
      "(8.0, 20.0]      0.028571\n",
      "Name: absenteeism_bins, dtype: float64\n"
     ]
    }
   ],
   "source": [
    "# Creating samples for train and test data\n",
    "X_train, X_test, y_train, y_test =  train_test_split(X,y,test_size = 0.3, random_state=42, stratify=y)\n",
    "\n",
    "print('Checking shape of samples')\n",
    "print('X_train',X_train.shape)\n",
    "print('X_test',X_test.shape,'\\n')\n",
    "print('Checking stratify of samples')\n",
    "print('y_train\\n',y_train.value_counts(normalize=True))\n",
    "print('y_test\\n', y_test.value_counts(normalize=True))"
   ]
  },
  {
   "cell_type": "code",
   "execution_count": 19,
   "metadata": {},
   "outputs": [
    {
     "name": "stdout",
     "output_type": "stream",
     "text": [
      "Accuracy score: 0.4380952380952381\n",
      "Accuracy score for train sample: 0.9794661190965093\n"
     ]
    }
   ],
   "source": [
    "# Building model\n",
    "dtree = DecisionTreeClassifier(random_state=8)\n",
    "dtree = dtree.fit(X_train, y_train)\n",
    "\n",
    "y_pred_dtree = dtree.predict(X_test)\n",
    "\n",
    "# Checking performance of model using evaluation metrics\n",
    "print(\"Accuracy score:\",accuracy_score(y_test,y_pred_dtree))\n",
    "\n",
    "# Checking overfitting of model by checking the accuracy of train sample\n",
    "y_train_pred = dtree.predict(X_train)\n",
    "print(\"Accuracy score for train sample:\",accuracy_score(y_train,y_train_pred))"
   ]
  },
  {
   "cell_type": "code",
   "execution_count": 20,
   "metadata": {},
   "outputs": [
    {
     "data": {
      "text/html": [
       "<div>\n",
       "<style scoped>\n",
       "    .dataframe tbody tr th:only-of-type {\n",
       "        vertical-align: middle;\n",
       "    }\n",
       "\n",
       "    .dataframe tbody tr th {\n",
       "        vertical-align: top;\n",
       "    }\n",
       "\n",
       "    .dataframe thead th {\n",
       "        text-align: right;\n",
       "    }\n",
       "</style>\n",
       "<table border=\"1\" class=\"dataframe\">\n",
       "  <thead>\n",
       "    <tr style=\"text-align: right;\">\n",
       "      <th></th>\n",
       "      <th>0</th>\n",
       "    </tr>\n",
       "  </thead>\n",
       "  <tbody>\n",
       "    <tr>\n",
       "      <th>reason_for_absence</th>\n",
       "      <td>0.285303</td>\n",
       "    </tr>\n",
       "    <tr>\n",
       "      <th>month_of_absence</th>\n",
       "      <td>0.075251</td>\n",
       "    </tr>\n",
       "    <tr>\n",
       "      <th>day_of_the_week</th>\n",
       "      <td>0.138062</td>\n",
       "    </tr>\n",
       "    <tr>\n",
       "      <th>seasons</th>\n",
       "      <td>0.050734</td>\n",
       "    </tr>\n",
       "    <tr>\n",
       "      <th>service_time</th>\n",
       "      <td>0.145380</td>\n",
       "    </tr>\n",
       "    <tr>\n",
       "      <th>work_load_average_day</th>\n",
       "      <td>0.126704</td>\n",
       "    </tr>\n",
       "    <tr>\n",
       "      <th>total_disciplinary_failures</th>\n",
       "      <td>0.109237</td>\n",
       "    </tr>\n",
       "    <tr>\n",
       "      <th>cluster</th>\n",
       "      <td>0.069330</td>\n",
       "    </tr>\n",
       "  </tbody>\n",
       "</table>\n",
       "</div>"
      ],
      "text/plain": [
       "                                    0\n",
       "reason_for_absence           0.285303\n",
       "month_of_absence             0.075251\n",
       "day_of_the_week              0.138062\n",
       "seasons                      0.050734\n",
       "service_time                 0.145380\n",
       "work_load_average_day        0.126704\n",
       "total_disciplinary_failures  0.109237\n",
       "cluster                      0.069330"
      ]
     },
     "execution_count": 20,
     "metadata": {},
     "output_type": "execute_result"
    }
   ],
   "source": [
    "feat_importance_dt = pd.DataFrame(dtree.feature_importances_, index=X.columns)\n",
    "feat_importance_dt"
   ]
  },
  {
   "cell_type": "code",
   "execution_count": 21,
   "metadata": {},
   "outputs": [
    {
     "data": {
      "text/plain": [
       "{'(-0.001, 2.0]', '(2.0, 4.0]', '(20.0, 120.0]', '(4.0, 8.0]', '(8.0, 20.0]'}"
      ]
     },
     "execution_count": 21,
     "metadata": {},
     "output_type": "execute_result"
    }
   ],
   "source": [
    "set(y.values)"
   ]
  },
  {
   "cell_type": "code",
   "execution_count": 22,
   "metadata": {},
   "outputs": [
    {
     "data": {
      "image/png": "[encoded data removed]",
      "text/plain": [
       "<Figure size 432x288 with 2 Axes>"
      ]
     },
     "metadata": {
      "needs_background": "light"
     },
     "output_type": "display_data"
    }
   ],
   "source": [
    "ac_score = accuracy_score(y_test,y_pred_dtree)\n",
    "class_names = y.unique()\n",
    "\n",
    "sns.heatmap(confusion_matrix(y_test,y_pred_dtree, labels=class_names, normalize='true').round(2), annot=True, xticklabels=class_names, yticklabels=class_names)\n",
    "plt.ylabel('True labels')\n",
    "plt.xlabel('Predicted labels')\n",
    "plt.title(f'Normalized Confusion Matrix for Decision Tree\\n accuracy = {ac_score.round(4)}', fontsize=14)\n",
    "plt.savefig('../img/norm_confusion_matrix_decision_tree.png')\n",
    "plt.show()"
   ]
  },
  {
   "cell_type": "markdown",
   "metadata": {},
   "source": [
    "### Conclusion on Decision Tree\n",
    "\n",
    "The accuracy score is not so good and we can see there is an overfit of train sample, which can be frequent for Decision tree. \n",
    "\n",
    "In the stratify we clearly see the imbalance of target, we may want to correct that to see if there is improvement of accuracy (but we should keep in mind that the imbalance is due to outliers we may want to keep track on). \n",
    "\n",
    "**Possible improvements:**\n",
    "- Use crossvalidation to avoid overfitting\n",
    "- Test Random Forest which is better to handle overfitting\n",
    "- Under/over sampling dataset"
   ]
  },
  {
   "cell_type": "markdown",
   "metadata": {},
   "source": [
    "___________________________\n",
    "## Use Cross validation for Decision Tree"
   ]
  },
  {
   "cell_type": "code",
   "execution_count": 23,
   "metadata": {},
   "outputs": [
    {
     "name": "stdout",
     "output_type": "stream",
     "text": [
      "Average accuracy: 0.4735632183908046\n"
     ]
    }
   ],
   "source": [
    "from sklearn.model_selection import StratifiedKFold # Use of Stratified to keep imbalanced samples\n",
    "\n",
    "list_of_accuracies=[]\n",
    "skf = StratifiedKFold(n_splits=4, random_state=8, shuffle=True) \n",
    "dtree_cv = DecisionTreeClassifier(random_state=8)\n",
    "\n",
    "for train_idx, test_idx in skf.split(X,y):\n",
    "    dtree_cv = dtree_cv.fit(X.iloc[train_idx,:],y[train_idx])\n",
    "    list_of_accuracies.append(accuracy_score(y[test_idx],dtree_cv.predict(X.iloc[test_idx,:])))\n",
    "    \n",
    "print(\"Average accuracy:\",np.mean(list_of_accuracies))"
   ]
  },
  {
   "cell_type": "code",
   "execution_count": 29,
   "metadata": {},
   "outputs": [
    {
     "name": "stdout",
     "output_type": "stream",
     "text": [
      "[0.41714286 0.29885057 0.36781609 0.35057471]\n",
      "Average accuracy: 0.3585960591133005\n"
     ]
    }
   ],
   "source": [
    "from sklearn.model_selection import cross_val_score\n",
    "\n",
    "dtree_cv = DecisionTreeClassifier(random_state=8)\n",
    "csv = cross_val_score(dtree_cv, X, y, cv=4)\n",
    "print(csv)\n",
    "print(\"Average accuracy:\",np.mean(csv))"
   ]
  },
  {
   "cell_type": "markdown",
   "metadata": {},
   "source": [
    "### Conclusion ofr cross-validation \n",
    "\n",
    "We can see there is no such improvement of the model accuracy using cross-validation.\n",
    "\n",
    "So we should use Random Forest to check the accuracy and make sure the overfitting is not the problem. Altough we may want to keep cross-validation. "
   ]
  },
  {
   "cell_type": "markdown",
   "metadata": {},
   "source": [
    "_______________\n",
    "## Random Forest "
   ]
  },
  {
   "cell_type": "code",
   "execution_count": 25,
   "metadata": {},
   "outputs": [],
   "source": [
    "from sklearn.ensemble import RandomForestClassifier"
   ]
  },
  {
   "cell_type": "code",
   "execution_count": 26,
   "metadata": {},
   "outputs": [
    {
     "name": "stdout",
     "output_type": "stream",
     "text": [
      "Average accuracy: 0.5638752052545155\n"
     ]
    },
    {
     "data": {
      "text/plain": [
       "[0.5428571428571428,\n",
       " 0.5747126436781609,\n",
       " 0.5459770114942529,\n",
       " 0.5919540229885057]"
      ]
     },
     "execution_count": 26,
     "metadata": {},
     "output_type": "execute_result"
    }
   ],
   "source": [
    "list_of_accuracies=[]\n",
    "skf = StratifiedKFold(n_splits=4, random_state=8, shuffle=True) \n",
    "randomf = RandomForestClassifier(random_state=8)\n",
    "\n",
    "for train_idx, test_idx in skf.split(X,y):\n",
    "    randomf = randomf.fit(X.iloc[train_idx,:],y[train_idx])\n",
    "    list_of_accuracies.append(accuracy_score(y[test_idx],randomf.predict(X.iloc[test_idx,:])))\n",
    "    \n",
    "print(\"Average accuracy:\",np.mean(list_of_accuracies))\n",
    "list_of_accuracies"
   ]
  },
  {
   "cell_type": "code",
   "execution_count": 27,
   "metadata": {},
   "outputs": [
    {
     "data": {
      "image/png": "[encoded data removed]",
      "text/plain": [
       "<Figure size 432x288 with 2 Axes>"
      ]
     },
     "metadata": {
      "needs_background": "light"
     },
     "output_type": "display_data"
    }
   ],
   "source": [
    "y_pred_rf = randomf.predict(X_test)\n",
    "ac_score = accuracy_score(y_test,y_pred_rf)\n",
    "\n",
    "sns.heatmap(confusion_matrix(y_test,y_pred_rf, labels=class_names, normalize='true').round(2), annot=True, xticklabels=class_names, yticklabels=class_names)\n",
    "plt.ylabel('True labels')\n",
    "plt.xlabel('Predicted labels')\n",
    "plt.title(f'Normalized Confusion Matrix for Random Forest\\n accuracy = {ac_score.round(4)}', fontsize=14)\n",
    "plt.savefig('../img/norm_confusion_matrix_random_forest.png')\n",
    "plt.show()"
   ]
  },
  {
   "cell_type": "code",
   "execution_count": 28,
   "metadata": {},
   "outputs": [
    {
     "data": {
      "text/html": [
       "<div>\n",
       "<style scoped>\n",
       "    .dataframe tbody tr th:only-of-type {\n",
       "        vertical-align: middle;\n",
       "    }\n",
       "\n",
       "    .dataframe tbody tr th {\n",
       "        vertical-align: top;\n",
       "    }\n",
       "\n",
       "    .dataframe thead th {\n",
       "        text-align: right;\n",
       "    }\n",
       "</style>\n",
       "<table border=\"1\" class=\"dataframe\">\n",
       "  <thead>\n",
       "    <tr style=\"text-align: right;\">\n",
       "      <th></th>\n",
       "      <th>0_dt</th>\n",
       "      <th>0_rf</th>\n",
       "    </tr>\n",
       "  </thead>\n",
       "  <tbody>\n",
       "    <tr>\n",
       "      <th>reason_for_absence</th>\n",
       "      <td>0.285303</td>\n",
       "      <td>0.266329</td>\n",
       "    </tr>\n",
       "    <tr>\n",
       "      <th>month_of_absence</th>\n",
       "      <td>0.075251</td>\n",
       "      <td>0.115428</td>\n",
       "    </tr>\n",
       "    <tr>\n",
       "      <th>day_of_the_week</th>\n",
       "      <td>0.138062</td>\n",
       "      <td>0.127836</td>\n",
       "    </tr>\n",
       "    <tr>\n",
       "      <th>seasons</th>\n",
       "      <td>0.050734</td>\n",
       "      <td>0.060761</td>\n",
       "    </tr>\n",
       "    <tr>\n",
       "      <th>service_time</th>\n",
       "      <td>0.145380</td>\n",
       "      <td>0.131098</td>\n",
       "    </tr>\n",
       "    <tr>\n",
       "      <th>work_load_average_day</th>\n",
       "      <td>0.126704</td>\n",
       "      <td>0.166109</td>\n",
       "    </tr>\n",
       "    <tr>\n",
       "      <th>total_disciplinary_failures</th>\n",
       "      <td>0.109237</td>\n",
       "      <td>0.080859</td>\n",
       "    </tr>\n",
       "    <tr>\n",
       "      <th>cluster</th>\n",
       "      <td>0.069330</td>\n",
       "      <td>0.051579</td>\n",
       "    </tr>\n",
       "  </tbody>\n",
       "</table>\n",
       "</div>"
      ],
      "text/plain": [
       "                                 0_dt      0_rf\n",
       "reason_for_absence           0.285303  0.266329\n",
       "month_of_absence             0.075251  0.115428\n",
       "day_of_the_week              0.138062  0.127836\n",
       "seasons                      0.050734  0.060761\n",
       "service_time                 0.145380  0.131098\n",
       "work_load_average_day        0.126704  0.166109\n",
       "total_disciplinary_failures  0.109237  0.080859\n",
       "cluster                      0.069330  0.051579"
      ]
     },
     "execution_count": 28,
     "metadata": {},
     "output_type": "execute_result"
    }
   ],
   "source": [
    "# Compare feature importance between Decision Tree and Random Forest\n",
    "\n",
    "feat_importance_rf = pd.DataFrame(randomf.feature_importances_,index=X.columns)\n",
    "\n",
    "feat_importance = pd.merge(feat_importance_dt,feat_importance_rf, left_index=True, right_index=True, suffixes=('_dt','_rf'))\n",
    "feat_importance\n"
   ]
  },
  {
   "cell_type": "markdown",
   "metadata": {},
   "source": [
    "### Conclusion on Random Forest\n",
    "\n",
    "Accuracy of model is much better with Random Forest so we can see it handle the overfitting of Decision tree model and the imbalanced of the dataset didn't affect too much the results. \n",
    "\n",
    "When checking at the feature importance, there are quite the same between random forest model and decision tree model, the performance of random forest is just better. \n",
    "\n",
    "**Prossible improvements:**\n",
    "- Under/over sampling dataset to check if accuracy is better without keep outliers in low number\n",
    "- Test other decision-tree-like models such as Xgboost, Catboost and Adaboost"
   ]
  }
 ],
 "metadata": {
  "kernelspec": {
   "display_name": "Python 3",
   "language": "python",
   "name": "python3"
  },
  "language_info": {
   "codemirror_mode": {
    "name": "ipython",
    "version": 3
   },
   "file_extension": ".py",
   "mimetype": "text/x-python",
   "name": "python",
   "nbconvert_exporter": "python",
   "pygments_lexer": "ipython3",
   "version": "3.7.4"
  }
 },
 "nbformat": 4,
 "nbformat_minor": 2
}
