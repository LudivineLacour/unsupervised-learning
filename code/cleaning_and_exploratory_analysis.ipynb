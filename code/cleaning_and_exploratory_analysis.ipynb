{
 "cells": [
  {
   "cell_type": "markdown",
   "metadata": {},
   "source": [
    "# Absenteeism at work \n",
    "\n",
    "Problem definition: predict the time of absence of an employee knowing some information on the reason of absence or the type of person. "
   ]
  },
  {
   "cell_type": "markdown",
   "metadata": {},
   "source": [
    "## Data Cleaning \n",
    "\n",
    "\n",
    "**More info regarding data description:**\n",
    "- If reason of absence is 0, it could means the row doesn't relate to absence but used to add additionnal information (such as a disciplinary failure).\n",
    "- If absenteeism_time_in_hours is 0, depending on the context it could means the absence is less than 1 hour or not absent at all.\n",
    "- If month_of_absence, disciplinary_failure and absenteeism_time_in_hours are all 0, we can assume they were probably not absent.\n",
    "- Service Time is the numbers of year in the company \n",
    "- Hit Target is the % of achievement regarding the objectives of the employee\n",
    "\n",
    "\n",
    "**Cleaning tasks:**\n",
    "- [x] Rename some of the columns (Son and Work load Average/day)\n",
    "- [x] Cleaning of columns name\n",
    "- [x] Gather outliers into bin for Absenteeism time in hours\n",
    "- [x] Correct dtypes of categorical data\n",
    "- [x] Check missing values\n",
    "- [x] Create a new colunm to count the total disciplinary failure for an employee\n",
    "- [x] Drop the rows where reason of absence == 0 because these rows do not relate to absenteism but rather the comportment of an employee (disciplinary failure). \n"
   ]
  },
  {
   "cell_type": "code",
   "execution_count": null,
   "metadata": {},
   "outputs": [],
   "source": [
    "import pandas as pd\n",
    "import numpy as np\n",
    "import matplotlib.pyplot as plt\n",
    "import seaborn as sns\n",
    "\n",
    "%matplotlib inline\n",
    "sns.set()\n",
    "\n",
    "pd.set_option('max_columns',25)"
   ]
  },
  {
   "cell_type": "code",
   "execution_count": null,
   "metadata": {},
   "outputs": [],
   "source": [
    "df = pd.read_csv('../data/Absenteeism_at_work.csv', sep=';')\n",
    "print(df.shape)\n",
    "df.head()"
   ]
  },
  {
   "cell_type": "code",
   "execution_count": null,
   "metadata": {},
   "outputs": [],
   "source": [
    "df.info()"
   ]
  },
  {
   "cell_type": "code",
   "execution_count": null,
   "metadata": {},
   "outputs": [],
   "source": [
    "# Cleaning of columns names\n",
    "\n",
    "df.rename(columns={'Son':'children'}, inplace=True)\n",
    "\n",
    "df.columns = [col.lower().replace('/','_').replace(' ','_').rstrip('_') for col in df.columns]\n",
    "df.head()"
   ]
  },
  {
   "cell_type": "code",
   "execution_count": null,
   "metadata": {},
   "outputs": [],
   "source": [
    "# Changing the types of categorical data to object\n",
    "\n",
    "categorical_col = ['id','reason_for_absence','month_of_absence','day_of_the_week','seasons'\n",
    "                   ,'disciplinary_failure', 'education','social_drinker','social_smoker']\n",
    "\n",
    "df[categorical_col] = df[categorical_col].astype(object)\n",
    "df.dtypes"
   ]
  },
  {
   "cell_type": "code",
   "execution_count": null,
   "metadata": {},
   "outputs": [],
   "source": [
    "df.describe().round(2)"
   ]
  },
  {
   "cell_type": "code",
   "execution_count": null,
   "metadata": {},
   "outputs": [],
   "source": [
    "df['absenteeism_time_in_hours'].plot.box();\n",
    "\n",
    "# More than 20 hours is outliers - it means people were absent more than a day"
   ]
  },
  {
   "cell_type": "code",
   "execution_count": null,
   "metadata": {},
   "outputs": [],
   "source": [
    "# Create bins to gather outliers somewhere\n",
    "\n",
    "label_absenteeism_time = ['0-2 hours','1/2 day','1 day','1-2 days','more than 2 days']\n",
    "\n",
    "df['absenteeism_bins']=pd.cut(df.absenteeism_time_in_hours,[-0.001,2.0,4.0,8.0,20.0,120.0])\n",
    "df.absenteeism_bins.value_counts()"
   ]
  },
  {
   "cell_type": "code",
   "execution_count": null,
   "metadata": {},
   "outputs": [],
   "source": [
    "# Create a new column to gather the count of disciplinary failure \n",
    "print(\"Value frequency of disciplinary failure:\\n\", df.disciplinary_failure.value_counts())\n",
    "\n",
    "total_disciplinary_failures = df.groupby('id').disciplinary_failure.sum().reset_index()\\\n",
    "                                .rename(columns={'disciplinary_failure':'total_disciplinary_failures'})\n",
    "total_disciplinary_failures\n",
    "df1 = pd.merge(df,total_disciplinary_failures, how='outer',on='id')\n",
    "df1.head()"
   ]
  },
  {
   "cell_type": "code",
   "execution_count": null,
   "metadata": {},
   "outputs": [],
   "source": [
    "# Drop rows with reason for absence == 0 and column of disciplinary failure (type = boolean)\n",
    "\n",
    "row_drop = df1[df1.reason_for_absence==0].index\n",
    "df1.drop(row_drop, axis=0, inplace=True)\n",
    "df1.drop('disciplinary_failure',axis=1,inplace=True)\n",
    "df1.head()"
   ]
  },
  {
   "cell_type": "code",
   "execution_count": null,
   "metadata": {},
   "outputs": [],
   "source": [
    "df1.shape\n",
    "\n",
    "# 2 columns were created, 1 column dropped and 43 rows dropped"
   ]
  },
  {
   "cell_type": "code",
   "execution_count": null,
   "metadata": {},
   "outputs": [],
   "source": [
    "# Saving the clean dataset\n",
    "\n",
    "df1.drop('absenteeism_time_in_hours',axis=1).to_csv('../data/absenteeism_clean.csv',index=False)"
   ]
  },
  {
   "cell_type": "markdown",
   "metadata": {},
   "source": [
    "## Exploratory data analysis "
   ]
  },
  {
   "cell_type": "code",
   "execution_count": null,
   "metadata": {},
   "outputs": [],
   "source": [
    "# Frequency of reason for absence\n",
    "df1['reason_for_absence'].hist(bins=df['reason_for_absence'].nunique());"
   ]
  },
  {
   "cell_type": "code",
   "execution_count": null,
   "metadata": {},
   "outputs": [],
   "source": [
    "sns.distplot(df1.total_disciplinary_failures);"
   ]
  },
  {
   "cell_type": "code",
   "execution_count": null,
   "metadata": {},
   "outputs": [],
   "source": [
    "# total time of absenteeism and count of absence per people\n",
    "\n",
    "count_absence = df1.groupby('id').reason_for_absence.count().sort_values(ascending=False)\n",
    "avg_count_absence = count_absence.mean()\n",
    "\n",
    "count_absence_time = df1.groupby('id').absenteeism_time_in_hours.sum().sort_values(ascending=False)\n",
    "avg_time_absence = count_absence_time.mean()\n",
    "\n",
    "fig, ax1=plt.subplots(figsize=(14,6))\n",
    "\n",
    "count_absence_time.plot(kind='bar', color='orange', label='Hours of absences')\n",
    "count_absence.plot(kind='bar', color='red', label='Count of absences')\n",
    "\n",
    "xmin, xmax = ax.get_xlim()\n",
    "plt.hlines(y=avg_count_absence, xmin=xmin, xmax=xmax, colors='r', linestyles='dashed',\\\n",
    "           label='Average number of absences')\n",
    "\n",
    "plt.hlines(y=avg_time_absence, xmin=xmin, xmax=xmax, colors='orange', linestyles='dashed',\\\n",
    "           label='Average time of absences')\n",
    "\n",
    "plt.legend()\n",
    "plt.title('Total of absences for absent employees')\n",
    "plt.show()"
   ]
  },
  {
   "cell_type": "code",
   "execution_count": null,
   "metadata": {},
   "outputs": [],
   "source": [
    "sns.distplot(count_absence)\n",
    "plt.xlabel('Total count of absence per employee')"
   ]
  },
  {
   "cell_type": "code",
   "execution_count": null,
   "metadata": {},
   "outputs": [],
   "source": [
    "# Total Absenteeism by people\n",
    "df1.groupby('id').absenteeism_time_in_hours.agg('sum').describe()"
   ]
  },
  {
   "cell_type": "code",
   "execution_count": null,
   "metadata": {},
   "outputs": [],
   "source": [
    "# trend of absenteeism for month and weekday"
   ]
  },
  {
   "cell_type": "code",
   "execution_count": null,
   "metadata": {},
   "outputs": [],
   "source": [
    "# trend of absence regarding seasons and distance \n",
    "# (Are people living far away from the work lazy to come at work because of the weather?)"
   ]
  },
  {
   "cell_type": "code",
   "execution_count": null,
   "metadata": {},
   "outputs": [],
   "source": [
    "# average time and count of absences per reason "
   ]
  },
  {
   "cell_type": "code",
   "execution_count": null,
   "metadata": {},
   "outputs": [],
   "source": [
    "# average time and count of absences per disciplinary (are bad people more often absent)"
   ]
  },
  {
   "cell_type": "code",
   "execution_count": null,
   "metadata": {},
   "outputs": [],
   "source": [
    "# pairplot to detect any linearity between variables \n",
    "sns.pairplot(df1);"
   ]
  },
  {
   "cell_type": "code",
   "execution_count": null,
   "metadata": {},
   "outputs": [],
   "source": []
  }
 ],
 "metadata": {
  "kernelspec": {
   "display_name": "Python 3",
   "language": "python",
   "name": "python3"
  },
  "language_info": {
   "codemirror_mode": {
    "name": "ipython",
    "version": 3
   },
   "file_extension": ".py",
   "mimetype": "text/x-python",
   "name": "python",
   "nbconvert_exporter": "python",
   "pygments_lexer": "ipython3",
   "version": "3.7.4"
  }
 },
 "nbformat": 4,
 "nbformat_minor": 2
}
